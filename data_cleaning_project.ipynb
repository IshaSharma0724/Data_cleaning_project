{
  "nbformat": 4,
  "nbformat_minor": 0,
  "metadata": {
    "colab": {
      "provenance": []
    },
    "kernelspec": {
      "name": "python3",
      "display_name": "Python 3"
    },
    "language_info": {
      "name": "python"
    }
  },
  "cells": [
    {
      "cell_type": "code",
      "execution_count": null,
      "metadata": {
        "id": "-QE4TJ-LP5Mw"
      },
      "outputs": [],
      "source": []
    },
    {
      "cell_type": "markdown",
      "source": [
        "**TITLE** - Data cleaning project- Titanic Dataset\n",
        "\n",
        "**INTRODUCTION** - In this project, I have cleaned the Titanic Dataset by handling missing values, removing duplicates, and fixing incorrect formats.\n"
      ],
      "metadata": {
        "id": "x_g1SApTQRA_"
      }
    },
    {
      "cell_type": "code",
      "source": [
        "#importing the libraries\n",
        "import pandas as pd\n",
        "import numpy as np"
      ],
      "metadata": {
        "id": "yCuYT0BZRgLD"
      },
      "execution_count": 2,
      "outputs": []
    },
    {
      "cell_type": "code",
      "source": [
        "#loading the dataset\n",
        "url= 'https://raw.githubusercontent.com/datasciencedojo/datasets/master/titanic.csv'\n",
        "df=pd.read_csv(url)\n",
        "df.head()"
      ],
      "metadata": {
        "id": "MH6xgYcOcS17"
      },
      "execution_count": null,
      "outputs": []
    },
    {
      "cell_type": "code",
      "source": [
        "#Exploring the dataset\n",
        "df.info()\n",
        "df.describe()\n",
        "df.isnull().sum()"
      ],
      "metadata": {
        "id": "22W6nPrdShg1"
      },
      "execution_count": 25,
      "outputs": []
    },
    {
      "cell_type": "code",
      "source": [
        "#Handling the missing values\n",
        "df['Age'].fillna(df['Age'].mean(), inplace=True)\n",
        "df['Embarked'].fillna(df['Embarked'].mode()[0], inplace=True)\n",
        "#df.drop('Cabin', inplace=True)     #Since too many null values, already handled by above two so not using it\n",
        "#df.isnull().sum()\n",
        "\n"
      ],
      "metadata": {
        "id": "MaVDAhY8TYw7"
      },
      "execution_count": 27,
      "outputs": []
    },
    {
      "cell_type": "code",
      "source": [
        "#Handling the duplicates\n",
        "df.drop_duplicates(inplace=True)\n",
        "#df.duplicated().sum()"
      ],
      "metadata": {
        "id": "AhlsiDR-bpA4"
      },
      "execution_count": 30,
      "outputs": []
    },
    {
      "cell_type": "code",
      "source": [
        "#Correcting data types\n",
        "df['Age']=df['Age'].astype('int64')\n",
        "df['Pclass']=df['Pclass'].astype('category')\n",
        "df['Sex']=df['Sex'].astype('category')\n",
        "df['Embarked']=df['Embarked'].astype('category')\n",
        "\n"
      ],
      "metadata": {
        "id": "84dDntuAYAKk"
      },
      "execution_count": 24,
      "outputs": []
    },
    {
      "cell_type": "code",
      "source": [
        "#Save and download the clean dataset\n",
        "df.to_csv('cleaned_titanic_dataset.csv', index=False)\n",
        "from google.colab import files\n",
        "files.download('cleaned_titanic_dataset.csv')\n"
      ],
      "metadata": {
        "colab": {
          "base_uri": "https://localhost:8080/",
          "height": 17
        },
        "id": "5zKY95_KZvFF",
        "outputId": "1b7e46a5-1598-4a72-d199-0f68dac92bc1"
      },
      "execution_count": 31,
      "outputs": [
        {
          "output_type": "display_data",
          "data": {
            "text/plain": [
              "<IPython.core.display.Javascript object>"
            ],
            "application/javascript": [
              "\n",
              "    async function download(id, filename, size) {\n",
              "      if (!google.colab.kernel.accessAllowed) {\n",
              "        return;\n",
              "      }\n",
              "      const div = document.createElement('div');\n",
              "      const label = document.createElement('label');\n",
              "      label.textContent = `Downloading \"${filename}\": `;\n",
              "      div.appendChild(label);\n",
              "      const progress = document.createElement('progress');\n",
              "      progress.max = size;\n",
              "      div.appendChild(progress);\n",
              "      document.body.appendChild(div);\n",
              "\n",
              "      const buffers = [];\n",
              "      let downloaded = 0;\n",
              "\n",
              "      const channel = await google.colab.kernel.comms.open(id);\n",
              "      // Send a message to notify the kernel that we're ready.\n",
              "      channel.send({})\n",
              "\n",
              "      for await (const message of channel.messages) {\n",
              "        // Send a message to notify the kernel that we're ready.\n",
              "        channel.send({})\n",
              "        if (message.buffers) {\n",
              "          for (const buffer of message.buffers) {\n",
              "            buffers.push(buffer);\n",
              "            downloaded += buffer.byteLength;\n",
              "            progress.value = downloaded;\n",
              "          }\n",
              "        }\n",
              "      }\n",
              "      const blob = new Blob(buffers, {type: 'application/binary'});\n",
              "      const a = document.createElement('a');\n",
              "      a.href = window.URL.createObjectURL(blob);\n",
              "      a.download = filename;\n",
              "      div.appendChild(a);\n",
              "      a.click();\n",
              "      div.remove();\n",
              "    }\n",
              "  "
            ]
          },
          "metadata": {}
        },
        {
          "output_type": "display_data",
          "data": {
            "text/plain": [
              "<IPython.core.display.Javascript object>"
            ],
            "application/javascript": [
              "download(\"download_043c739c-541f-459d-a8e4-b8d8182bff81\", \"cleaned_titanic_dataset.csv\", 59294)"
            ]
          },
          "metadata": {}
        }
      ]
    },
    {
      "cell_type": "markdown",
      "source": [
        "**CONCLUSION** - I successfully cleaned the Titanic dataset by filling missing values, correcting data types, removing duplicates, and exporting the final cleaned data for further analysis.\n"
      ],
      "metadata": {
        "id": "odb2dRQ7daVp"
      }
    }
  ]
}